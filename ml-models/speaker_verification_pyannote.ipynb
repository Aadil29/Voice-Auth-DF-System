{
 "cells": [
  {
   "cell_type": "markdown",
   "id": "f51f8447",
   "metadata": {},
   "source": [
    "# Speaker Verification using PyAnnote\n",
    "\n",
    "This notebook compares two audio files and determines if they are spoken by the same person using a speaker embedding model from `pyannote.audio`.\n",
    "\n",
    "It uses a pre-trained model from Hugging Face and compares embeddings with cosine similarity.\n"
   ]
  },
  {
   "cell_type": "code",
   "execution_count": null,
   "id": "6c34e6f0",
   "metadata": {},
   "outputs": [],
   "source": []
  },
  {
   "cell_type": "code",
   "execution_count": 7,
   "id": "99c900c5",
   "metadata": {},
   "outputs": [
    {
     "name": "stderr",
     "output_type": "stream",
     "text": [
      "c:\\Users\\Aadil\\anaconda3\\envs\\voice-auth-project-env\\lib\\site-packages\\pytorch_lightning\\utilities\\migration\\migration.py:208: You have multiple `ModelCheckpoint` callback states in this checkpoint, but we found state keys that would end up colliding with each other after an upgrade, which means we can't differentiate which of your checkpoint callbacks needs which states. At least one of your `ModelCheckpoint` callbacks will not be able to reload the state.\n",
      "Lightning automatically upgraded your loaded checkpoint from v1.2.7 to v2.5.1. To apply the upgrade to your files permanently, run `python -m pytorch_lightning.utilities.upgrade_checkpoint C:\\Users\\Aadil\\.cache\\torch\\pyannote\\models--pyannote--embedding\\snapshots\\4db4899737a38b2d618bbd74350915aa10293cb2\\pytorch_model.bin`\n"
     ]
    },
    {
     "name": "stdout",
     "output_type": "stream",
     "text": [
      "Model was trained with pyannote.audio 0.0.1, yours is 3.3.2. Bad things might happen unless you revert pyannote.audio to 0.x.\n",
      "Model was trained with torch 1.8.1+cu102, yours is 2.5.1+cu121. Bad things might happen unless you revert torch to 1.x.\n"
     ]
    },
    {
     "name": "stderr",
     "output_type": "stream",
     "text": [
      "c:\\Users\\Aadil\\anaconda3\\envs\\voice-auth-project-env\\lib\\site-packages\\pytorch_lightning\\core\\saving.py:195: Found keys that are not in the model state dict but in the checkpoint: ['loss_func.W']\n"
     ]
    }
   ],
   "source": [
    "\n",
    "from pyannote.audio import Audio\n",
    "from pyannote.audio.pipelines.speaker_verification import PretrainedSpeakerEmbedding\n",
    "from scipy.spatial.distance import cosine\n",
    "import torchaudio\n",
    "import torch\n",
    "\n",
    "# Load speaker embedding model from Hugging Face\n",
    "model = PretrainedSpeakerEmbedding(\"pyannote/embedding\", device=\"cpu\")\n",
    "audio = Audio(sample_rate=16000)\n"
   ]
  },
  {
   "cell_type": "code",
   "execution_count": null,
   "id": "013cc496",
   "metadata": {},
   "outputs": [],
   "source": [
    "from scipy.spatial.distance import cosine\n",
    "\n",
    "def get_embedding(file_path):\n",
    "    waveform, sample_rate = audio(file_path)\n",
    "    with torch.inference_mode():\n",
    "        embedding = model(waveform)\n",
    "    return embedding.squeeze()  \n",
    "\n",
    "def compare_speakers(file1, file2, threshold=0.75):\n",
    "    emb1 = get_embedding(file1)\n",
    "    emb2 = get_embedding(file2)\n",
    "    similarity = 1 - cosine(emb1, emb2)\n",
    "    same_speaker = similarity >= threshold\n",
    "    return similarity, same_speaker\n",
    "\n"
   ]
  },
  {
   "cell_type": "code",
   "execution_count": 17,
   "id": "5a5fb62e",
   "metadata": {},
   "outputs": [
    {
     "name": "stdout",
     "output_type": "stream",
     "text": [
      "Similarity: 0.1032\n",
      "Different speakers\n"
     ]
    }
   ],
   "source": [
    "file1 = \"datasets/vox1_dev/id10001/1zcIwhmdeo4/00001.wav\"\n",
    "file2 = \"datasets/vox1_dev/id11250/1BmQvhvvrhY/00001.wav\"\n",
    "\n",
    "similarity, same = compare_speakers(file1, file2)\n",
    "print(f\"Similarity: {similarity:.4f}\")\n",
    "print(\"Same speaker:\" if same else \"Different speakers\")\n",
    "\n"
   ]
  }
 ],
 "metadata": {
  "kernelspec": {
   "display_name": "Python 3",
   "language": "python",
   "name": "python3"
  },
  "language_info": {
   "codemirror_mode": {
    "name": "ipython",
    "version": 3
   },
   "file_extension": ".py",
   "mimetype": "text/x-python",
   "name": "python",
   "nbconvert_exporter": "python",
   "pygments_lexer": "ipython3",
   "version": "3.10.16"
  }
 },
 "nbformat": 4,
 "nbformat_minor": 5
}
