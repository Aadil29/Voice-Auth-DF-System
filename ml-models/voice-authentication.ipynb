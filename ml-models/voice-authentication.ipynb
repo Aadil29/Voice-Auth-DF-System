{
 "cells": [
  {
   "cell_type": "code",
   "execution_count": 1,
   "metadata": {},
   "outputs": [
    {
     "name": "stdout",
     "output_type": "stream",
     "text": [
      "True\n",
      "NVIDIA GeForce RTX 3060\n"
     ]
    }
   ],
   "source": [
    "import torch\n",
    "print(torch.cuda.is_available())         # should return True\n",
    "print(torch.cuda.get_device_name(0))     # should say \"NVIDIA GeForce RTX 3060\"\n"
   ]
  },
  {
   "cell_type": "markdown",
   "metadata": {},
   "source": [
    "Imports "
   ]
  },
  {
   "cell_type": "code",
   "execution_count": 1,
   "metadata": {},
   "outputs": [],
   "source": [
    "# For data manipulation and analysis \n",
    "import pandas as pd\n",
    "\n",
    "# For numerical operations and array handling \n",
    "import numpy as np\n",
    "\n",
    "# For creating plots and visualisations\n",
    "import matplotlib.pylab as plt\n",
    "\n",
    "# For advanced data visualisations \n",
    "import seaborn as sns\n",
    "\n",
    "# For file pattern matching \n",
    "import glob as glob\n",
    "\n",
    "# For audio processing \n",
    "import librosa\n",
    "\n",
    "# For displaying audio data visually \n",
    "import librosa.display\n",
    "\n",
    "# For playing audio directly in notebooks \n",
    "import IPython.display as ipd"
   ]
  },
  {
   "cell_type": "markdown",
   "metadata": {},
   "source": []
  }
 ],
 "metadata": {
  "kernelspec": {
   "display_name": "voice-auth-ml",
   "language": "python",
   "name": "python3"
  },
  "language_info": {
   "codemirror_mode": {
    "name": "ipython",
    "version": 3
   },
   "file_extension": ".py",
   "mimetype": "text/x-python",
   "name": "python",
   "nbconvert_exporter": "python",
   "pygments_lexer": "ipython3",
   "version": "3.10.16"
  }
 },
 "nbformat": 4,
 "nbformat_minor": 2
}
