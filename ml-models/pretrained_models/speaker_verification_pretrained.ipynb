{
 "cells": [
  {
   "cell_type": "markdown",
   "id": "f51f8447",
   "metadata": {},
   "source": [
    "# Speaker Verification using Pretrained model\n",
    "Using speechbrain a pre-trained model from Hugging Face \n",
    "https://huggingface.co/speechbrain/spkrec-ecapa-voxceleb\n"
   ]
  },
  {
   "cell_type": "markdown",
   "id": "51c24409",
   "metadata": {},
   "source": [
    "This is a base implementation to see how the model would perform, it was then used and implemented in the main.py where it was used as the voice identification model, as it had performed better than the one that was constructed from scratch."
   ]
  },
  {
   "cell_type": "code",
   "execution_count": null,
   "id": "c54411cc",
   "metadata": {},
   "outputs": [
    {
     "name": "stdout",
     "output_type": "stream",
     "text": [
      "Same speaker: Score=0.7119, Prediction=tensor([True])\n",
      "Different speaker: Score=-0.0120, Prediction=tensor([False])\n"
     ]
    }
   ],
   "source": [
    "\n",
    "\n",
    "import os\n",
    "from speechbrain.inference.speaker import SpeakerRecognition\n",
    "\n",
    "model_path = os.path.abspath(\n",
    "    \"../authentication-system-with-df-detection/pretrained_models/spkrec-ecapa-voxceleb\"\n",
    ")\n",
    "\n",
    "# Load model\n",
    "speaker_model = SpeakerRecognition.from_hparams(source=model_path)\n",
    "\n",
    "# Run tests\n",
    "file_same_1 = \"datasets/vox1_dev/id10001/1zcIwhmdeo4/00001.wav\"\n",
    "file_same_2 = \"datasets/vox1_dev/id10001/7gWzIy6yIIk/00003.wav\"\n",
    "\n",
    "file_diff_1 = \"datasets/vox1_dev/id11250/1BmQvhvvrhY/00001.wav\"\n",
    "file_diff_2 = \"datasets/vox1_dev/id11247/8fb605WBHYU/00004.wav\"\n",
    "\n",
    "score_same, pred_same = speaker_model.verify_files(file_same_1, file_same_2)\n",
    "score_diff, pred_diff = speaker_model.verify_files(file_diff_1, file_diff_2)\n",
    "\n",
    "print(f\"Same speaker: Score={score_same.item():.4f}, Prediction={pred_same}\")\n",
    "print(f\"Different speaker: Score={score_diff.item():.4f}, Prediction={pred_diff}\")\n",
    "\n",
    "\n"
   ]
  }
 ],
 "metadata": {
  "kernelspec": {
   "display_name": "Python 3",
   "language": "python",
   "name": "python3"
  },
  "language_info": {
   "codemirror_mode": {
    "name": "ipython",
    "version": 3
   },
   "file_extension": ".py",
   "mimetype": "text/x-python",
   "name": "python",
   "nbconvert_exporter": "python",
   "pygments_lexer": "ipython3",
   "version": "3.10.16"
  }
 },
 "nbformat": 4,
 "nbformat_minor": 5
}
